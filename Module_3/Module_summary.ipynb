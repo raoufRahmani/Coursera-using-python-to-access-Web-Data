{
 "cells": [
  {
   "cell_type": "markdown",
   "id": "f0834542",
   "metadata": {},
   "source": [
    "## Networking technology"
   ]
  },
  {
   "cell_type": "markdown",
   "id": "7e26d475",
   "metadata": {},
   "source": [
    "This Module explains how computers communicate through the internet using network protocols.\n",
    "\n",
    "**Networked Technology**\n",
    "This lesson talks about how data moves between computers. It explains what an IP address is, what DNS (Domain Name System) does, and how computers use ports to talk to each other. It also explains the client-server model.\n",
    "- IP address : An IP (Internet Protocol) address is a network address for your computer, so the internet knows where to send your emails, data, and your memes.  \n",
    "- DNS (Domain Name Systme) : DNS means that humans and machines can each use the kind of Internet address format most suitable to them. For instance, you can just type internetsociety.org in your web browser instead of the site’s IP (Internet Protocol) address, which would look like “104.18.16.166”\n",
    "- A port is like a key that allows access a service in a server. Instead of calling the server directly, we use a port to connect to it. For example, port 80 is used to access web data.\n",
    "\n",
    "**Hypertext Transfer Protocol (HTTP)**\n",
    "This part explains how the web works using HTTP. It shows how a browser sends a request to a server and how the server sends back a response. You also learn about GET and POST requests and HTTP headers like Content-Type.\n",
    "- HTTP is the basic foundation of the World Wide Web. It is used to load web pages using hyperlinks. It was designed to transfer information between devices connected through a network, and it uses 4 main methods :\n",
    "\n",
    "| Method | Action               |\n",
    "|--------|----------------------|\n",
    "| GET    | Retrieve data        |\n",
    "| POST   | Send/submit data     |\n",
    "| PUT    | Update existing data |\n",
    "| DELETE | Remove data          |\n",
    "\n",
    "\n",
    "\n",
    "**Worked Example: Sockets**\n",
    "This is a small example using the Python socket library. It shows how to connect to a web server, send an HTTP request, and receive data from the server using low-level code.\n",
    "\n",
    "**Using the Developer Console to Explore HTTP**\n",
    "This lesson shows how to use the browser developer tools to see the HTTP requests and responses when a web page loads. It helps understand how websites work in the background."
   ]
  }
 ],
 "metadata": {
  "language_info": {
   "name": "python"
  }
 },
 "nbformat": 4,
 "nbformat_minor": 5
}
