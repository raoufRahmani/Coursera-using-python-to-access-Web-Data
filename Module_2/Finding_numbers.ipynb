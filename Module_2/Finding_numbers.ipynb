{
 "cells": [
  {
   "cell_type": "markdown",
   "id": "4857be8c",
   "metadata": {},
   "source": [
    "Regular Expressions\n",
    "Regular expressions are a powerful tool used for searching, matching, and manipulating text based on specific patterns. They allow you to define a search pattern using a combination of characters and symbols, making it easier to extract or validate information from strings.\n",
    "\n",
    "The library used for regular expressions in Python is re.\n",
    "\n",
    "The re library provides several functions for extracting data from text. For example:\n",
    "\n",
    "- Extracting numbers from a sentence\n",
    "\n",
    "- Extracting all email addresses in a particular article\n",
    "\n",
    "- Finding specific words or patterns in a string\n",
    "\n",
    "- Validating formats like phone numbers, dates, or URLs\n"
   ]
  },
  {
   "cell_type": "markdown",
   "id": "520e1abb",
   "metadata": {},
   "source": [
    "#### Let's see an example where We extract all the numbers in a text using the findall() function"
   ]
  },
  {
   "cell_type": "code",
   "execution_count": 4,
   "id": "813ebc38",
   "metadata": {},
   "outputs": [
    {
     "name": "stdout",
     "output_type": "stream",
     "text": [
      "['22', '2003']\n"
     ]
    }
   ],
   "source": [
    "import re\n",
    "x= \"I am 22 years old, I was born in 2003 \"\n",
    "y=re.findall('[0-9]+',x)\n",
    "print(y)\n",
    "\n"
   ]
  },
  {
   "cell_type": "markdown",
   "id": "825ac59a",
   "metadata": {},
   "source": [
    "The brackets refers to : Find all sequences of digits  \n",
    "The \"+\" signe : one or more digits"
   ]
  },
  {
   "cell_type": "markdown",
   "id": "4d16d299",
   "metadata": {},
   "source": [
    "# Regular Expressions Cheat Sheet (Python `re` Module)\n",
    "\n",
    "| Pattern     | Description                                                      |\n",
    "|-------------|------------------------------------------------------------------|\n",
    "| `^`         | Matches the **beginning** of a line                              |\n",
    "| `$`         | Matches the **end** of a line                                    |\n",
    "| `.`         | Matches **any character** (except newline by default)           |\n",
    "| `\\s`        | Matches any **whitespace** character (spaces, tabs, newlines)    |\n",
    "| `\\S`        | Matches any **non-whitespace** character                         |\n",
    "| `*`         | Repeats the previous character **zero or more times**            |\n",
    "| `*?`        | Repeats zero or more times, **non-greedy** (minimal match)       |\n",
    "| `+`         | Repeats the previous character **one or more times**             |\n",
    "| `+?`        | Repeats one or more times, **non-greedy**                        |\n",
    "| `[aeiou]`   | Matches **a single character** from the set `a`, `e`, `i`, `o`, `u` |\n",
    "| `[^XYZ]`    | Matches a single character **not in the set** `X`, `Y`, or `Z`   |\n",
    "| `[a-z0-9]`  | Matches any **lowercase letter or digit** (range allowed)        |\n",
    "| `(`         | Indicates **start of a group** (for capturing substrings)        |\n",
    "| `)`         | Indicates **end of a group**                                     |\n",
    "\n",
    "---\n"
   ]
  },
  {
   "cell_type": "markdown",
   "id": "1840fb92",
   "metadata": {},
   "source": [
    "### Assignment 1 : Finding al the numbers in regex_sum_42.txt and calculate their sum"
   ]
  },
  {
   "cell_type": "code",
   "execution_count": 10,
   "id": "2cec843f",
   "metadata": {},
   "outputs": [
    {
     "name": "stdout",
     "output_type": "stream",
     "text": [
      "445833.0\n"
     ]
    }
   ],
   "source": [
    "import re\n",
    "numlist=[]\n",
    "file=open('regex_sum_42.txt')\n",
    "for line in file :\n",
    "    list_num=re.findall('[0-9]+',line)\n",
    "    for num in list_num:\n",
    "        numlist.append(float(num))\n",
    "print(sum(numlist))"
   ]
  },
  {
   "cell_type": "markdown",
   "id": "32f6466d",
   "metadata": {},
   "source": [
    "### Assignment 2 : Finding al the numbers in regex_sum_2251559.txt and calculate their sum"
   ]
  },
  {
   "cell_type": "code",
   "execution_count": 14,
   "id": "8adf298a",
   "metadata": {},
   "outputs": [
    {
     "name": "stdout",
     "output_type": "stream",
     "text": [
      "413010.0\n"
     ]
    }
   ],
   "source": [
    "file2=open('regex_sum_2251559.txt')\n",
    "numlist2=[]\n",
    "for line in file2 :\n",
    "    list_of_num=re.findall('[0-9]+',line)\n",
    "    for item in list_of_num :\n",
    "        numlist2.append(float(item))\n",
    "print(sum(numlist2))\n"
   ]
  },
  {
   "cell_type": "code",
   "execution_count": null,
   "id": "00b8a3ed",
   "metadata": {},
   "outputs": [],
   "source": []
  }
 ],
 "metadata": {
  "kernelspec": {
   "display_name": "Python 3",
   "language": "python",
   "name": "python3"
  },
  "language_info": {
   "codemirror_mode": {
    "name": "ipython",
    "version": 3
   },
   "file_extension": ".py",
   "mimetype": "text/x-python",
   "name": "python",
   "nbconvert_exporter": "python",
   "pygments_lexer": "ipython3",
   "version": "3.13.5"
  }
 },
 "nbformat": 4,
 "nbformat_minor": 5
}
