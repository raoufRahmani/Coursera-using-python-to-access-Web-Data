{
 "cells": [
  {
   "cell_type": "markdown",
   "id": "d2bfb9ef",
   "metadata": {},
   "source": [
    "# Programs that surf the Web"
   ]
  },
  {
   "cell_type": "markdown",
   "id": "7a5f7713",
   "metadata": {},
   "source": [
    "### Unicode :"
   ]
  },
  {
   "cell_type": "markdown",
   "id": "c172609b",
   "metadata": {},
   "source": [
    "Each character is represented by a number between 0 and 256 that has 8 digits  \n",
    "For example : the letter 'e' is represented by 101"
   ]
  },
  {
   "cell_type": "code",
   "execution_count": 1,
   "id": "0cdbe498",
   "metadata": {},
   "outputs": [
    {
     "name": "stdout",
     "output_type": "stream",
     "text": [
      "the character encoding of the letter 'e' is : 101\n",
      "the character encoding of the letter 'E' is : 69\n"
     ]
    }
   ],
   "source": [
    "print (f\"the character encoding of the letter 'e' is : {ord('e')}\")\n",
    "print (f\"the character encoding of the letter 'E' is : {ord('E')}\")"
   ]
  },
  {
   "cell_type": "markdown",
   "id": "35c40b7c",
   "metadata": {},
   "source": [
    "## Retreiving Web pages\n"
   ]
  },
  {
   "cell_type": "markdown",
   "id": "ede68430",
   "metadata": {},
   "source": [
    "urllib is a Python library used to retrieve (download) web pages and other data from the Internet.\n",
    "\n",
    "It helps you send requests to URLs and get back the content, like HTML pages, files, or APIs."
   ]
  },
  {
   "cell_type": "markdown",
   "id": "68b8d40a",
   "metadata": {},
   "source": [
    "## Parsing Web pages"
   ]
  },
  {
   "cell_type": "markdown",
   "id": "51186707",
   "metadata": {},
   "source": [
    "Parsing web pages means analyzing and extracting specific data from the HTML (or sometimes XML/JSON) structure of a web page. This is a key part of web scraping — where you programmatically access websites and extract useful information  \n",
    "\n",
    "A web page is just HTML (HyperText Markup Language).  \n",
    "\n",
    "Parsing means:\n",
    "- reading that HTML structure\n",
    "- identifying the parts you need (like a div, span, or table)\n",
    "- extracting the content (text, links, images...)"
   ]
  },
  {
   "cell_type": "markdown",
   "id": "8484a78d",
   "metadata": {},
   "source": []
  }
 ],
 "metadata": {
  "kernelspec": {
   "display_name": "Python 3",
   "language": "python",
   "name": "python3"
  },
  "language_info": {
   "codemirror_mode": {
    "name": "ipython",
    "version": 3
   },
   "file_extension": ".py",
   "mimetype": "text/x-python",
   "name": "python",
   "nbconvert_exporter": "python",
   "pygments_lexer": "ipython3",
   "version": "3.13.5"
  }
 },
 "nbformat": 4,
 "nbformat_minor": 5
}
