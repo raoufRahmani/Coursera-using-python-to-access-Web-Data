{
 "cells": [
  {
   "cell_type": "markdown",
   "id": "13a8ea46",
   "metadata": {},
   "source": [
    "# JSON and the REST architecture"
   ]
  },
  {
   "cell_type": "markdown",
   "id": "1c96a577",
   "metadata": {},
   "source": [
    "## JSON Basics - Python for Everybody\n",
    "\n",
    "JSON (JavaScript Object Notation) represents data using **nested lists** and **dictionaries**.\n",
    "\n",
    "### Sample JSON string:\n",
    "```python\n",
    "import json\n",
    "\n",
    "input = '''\n",
    "[\n",
    "  { \"id\" : \"001\", \"x\" : \"2\", \"name\" : \"Chuck\" },\n",
    "  { \"id\" : \"009\", \"x\" : \"7\", \"name\" : \"Chuck\" }\n",
    "]\n",
    "'''\n",
    "\n",
    "info = json.loads(input)\n",
    "print('User count:', len(info))\n",
    "\n",
    "for item in info:\n",
    "    print('Name:', item['name'])\n",
    "    print('Id:', item['id'])\n",
    "    print('Attribute:', item['x'])\n"
   ]
  },
  {
   "cell_type": "markdown",
   "id": "aaee1823",
   "metadata": {},
   "source": [
    "The output would be :  \n",
    "User count: 2  \n",
    "Name: Chuck  \n",
    "Id: 001  \n",
    "Attribute: 2  \n",
    "Name: Chuck  \n",
    "Id: 009  \n",
    "Attribute: 7  \n"
   ]
  },
  {
   "cell_type": "markdown",
   "id": "ca4ab733",
   "metadata": {},
   "source": [
    "# Assignment 1 : Extracting Data from JSON"
   ]
  },
  {
   "cell_type": "markdown",
   "id": "9073e265",
   "metadata": {},
   "source": [
    "In this assignment, we are going to write a Python program that retrieves JSON data from a URL, extracts specific information, and computes a result based on that data. More specifically, the program will:\n",
    "\n",
    "* Prompt the user to enter a URL\n",
    "* Use the `urllib` library to fetch the JSON data from that URL\n",
    "* Parse the JSON data using the `json` module\n",
    "* Extract all the comment counts from the data\n",
    "* Compute and print the sum of those counts\n",
    "\n",
    "We’ll test our code on two datasets:\n",
    "\n",
    "* A **sample file** to verify our logic (expected sum: 2553)\n",
    "* An **actual data file** where the correct sum ends with the digits **77**\n",
    "\n"
   ]
  },
  {
   "cell_type": "code",
   "execution_count": null,
   "id": "5435195f",
   "metadata": {},
   "outputs": [
    {
     "name": "stdout",
     "output_type": "stream",
     "text": [
      "Retrieving http://py4e-data.dr-chuck.net/comments_2251564.json\n",
      "Count: 50\n",
      "Sum:   2377\n"
     ]
    }
   ],
   "source": [
    "import urllib.request, json\n",
    "\n",
    "url = input('Enter URL: ') \n",
    "\n",
    "print('Retrieving', url)\n",
    "data = urllib.request.urlopen(url).read().decode()\n",
    "\n",
    "info   = json.loads(data)                   # turn JSON text → Python dict\n",
    "counts = [item['count'] for item in info['comments']]\n",
    "\n",
    "print('Count:', len(counts))                # how many <count> values \n",
    "print('Sum:  ', sum(counts))                # total of all the numbers\n"
   ]
  },
  {
   "cell_type": "markdown",
   "id": "be7afa18",
   "metadata": {},
   "source": [
    "## Assignment 2 : Calling a JSON API"
   ]
  },
  {
   "cell_type": "markdown",
   "id": "974799a4",
   "metadata": {},
   "source": [
    "In this assignment, we are going to write a Python program that retrieves geolocation data in JSON format from a web API and extracts a specific value called a **plus\\_code**, which is a type of Open Location Code used as a geographic identifier.\n",
    "\n",
    "Specifically, the program will:\n",
    "\n",
    "* Prompt the user to enter a location name\n",
    "* Use `urllib` and `urllib.parse` to encode the location and send a request to the API\n",
    "* Fetch the JSON response from the following endpoint:\n",
    "  **[http://py4e-data.dr-chuck.net/opengeo](http://py4e-data.dr-chuck.net/opengeo)?**\n",
    "* Parse the JSON data using the `json` library\n",
    "* Extract and print the first **plus\\_code** from the response\n",
    "\n",
    "To test the program, we’ll first try it with the location **\"South Federal University\"**, which should return the plus\\_code **6FV8QPRJ+VQ**.  \n",
    "Then, we’ll use it to find the plus\\_code for the location:\n",
    "\n",
    "**Monterrey Institute of Technology and Higher Education**"
   ]
  },
  {
   "cell_type": "code",
   "execution_count": 3,
   "id": "b28b4e52",
   "metadata": {},
   "outputs": [
    {
     "name": "stdout",
     "output_type": "stream",
     "text": [
      "Retrieving http://py4e-data.dr-chuck.net/opengeo?q=Monterrey+Institute+of+Technology+and+Higher+Education\n",
      "Retrieved 1306 characters\n",
      "Plus code 8669G2G7+R2\n"
     ]
    }
   ],
   "source": [
    "import urllib.request, urllib.parse, json, ssl\n",
    "\n",
    "serviceurl = 'http://py4e-data.dr-chuck.net/opengeo?'\n",
    "\n",
    "ctx = ssl.create_default_context()\n",
    "ctx.check_hostname = False\n",
    "ctx.verify_mode = ssl.CERT_NONE\n",
    "\n",
    "while True:\n",
    "    address = input('Enter location: ').strip()\n",
    "    if not address:\n",
    "        break\n",
    "\n",
    "    url = serviceurl + urllib.parse.urlencode({'q': address})\n",
    "    print('Retrieving', url)\n",
    "\n",
    "    data = urllib.request.urlopen(url, context=ctx).read().decode()\n",
    "    print('Retrieved', len(data), 'characters')\n",
    "\n",
    "    try:\n",
    "        js = json.loads(data)\n",
    "    except json.JSONDecodeError:\n",
    "        print('== JSON parse error ==')\n",
    "        continue\n",
    "\n",
    "    if 'features' not in js or len(js['features']) == 0:\n",
    "        print('== Location not found ==')\n",
    "        continue\n",
    "\n",
    "    plus_code = js['features'][0]['properties']['plus_code']\n",
    "    print('Plus code', plus_code)\n",
    "    break\n"
   ]
  },
  {
   "cell_type": "code",
   "execution_count": null,
   "id": "29a8986d",
   "metadata": {},
   "outputs": [],
   "source": []
  }
 ],
 "metadata": {
  "kernelspec": {
   "display_name": "Python 3",
   "language": "python",
   "name": "python3"
  },
  "language_info": {
   "codemirror_mode": {
    "name": "ipython",
    "version": 3
   },
   "file_extension": ".py",
   "mimetype": "text/x-python",
   "name": "python",
   "nbconvert_exporter": "python",
   "pygments_lexer": "ipython3",
   "version": "3.13.5"
  }
 },
 "nbformat": 4,
 "nbformat_minor": 5
}
