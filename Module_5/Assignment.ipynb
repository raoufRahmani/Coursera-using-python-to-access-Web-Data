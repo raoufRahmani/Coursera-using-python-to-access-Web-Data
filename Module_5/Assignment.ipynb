{
 "cells": [
  {
   "cell_type": "markdown",
   "id": "b9318d64",
   "metadata": {},
   "source": [
    "# Extracting Data from XML"
   ]
  },
  {
   "cell_type": "markdown",
   "id": "28a3a1f8",
   "metadata": {},
   "source": [
    "In this task, we will write a Python program that asks the user for a URL, then downloads and reads the XML data from that link using the urllib library. After that, the program will parse the XML to find all the \"count\" tags, extract the numbers inside them, and calculate the total sum. Finally, it will print how many numbers were found and what the total sum is. We will first test the program using the sample URL:\n",
    "http://py4e-data.dr-chuck.net/comments_42.xml (where the sum should be 2553).\n",
    "Then we will run it with the actual assignment URL:\n",
    "http://py4e-data.dr-chuck.net/comments_2251563.xml (the sum ends in 19)."
   ]
  },
  {
   "cell_type": "code",
   "execution_count": 9,
   "id": "30f6a8d2",
   "metadata": {},
   "outputs": [
    {
     "name": "stdout",
     "output_type": "stream",
     "text": [
      "retreiving http://py4e-data.dr-chuck.net/comments_2251563.xml\n",
      "Retreived 4223 characters\n",
      "99\n",
      "97\n",
      "95\n",
      "92\n",
      "90\n",
      "85\n",
      "85\n",
      "81\n",
      "77\n",
      "76\n",
      "72\n",
      "71\n",
      "70\n",
      "69\n",
      "68\n",
      "65\n",
      "64\n",
      "61\n",
      "61\n",
      "59\n",
      "59\n",
      "58\n",
      "56\n",
      "52\n",
      "51\n",
      "50\n",
      "48\n",
      "47\n",
      "43\n",
      "43\n",
      "39\n",
      "37\n",
      "34\n",
      "30\n",
      "29\n",
      "29\n",
      "27\n",
      "26\n",
      "21\n",
      "18\n",
      "17\n",
      "14\n",
      "14\n",
      "14\n",
      "9\n",
      "6\n",
      "4\n",
      "3\n",
      "3\n",
      "1\n",
      "count 50\n",
      "Sum 2419\n"
     ]
    }
   ],
   "source": [
    "import urllib.request\n",
    "import xml.etree.ElementTree as ET\n",
    "\n",
    "url=input('Enter location : ')\n",
    "if len(url)<1:\n",
    "    url='http://py4e-data.dr-chuck.net/comments_42.xml'\n",
    "\n",
    "print('retreiving',url)\n",
    "uh=urllib.request.urlopen(url)\n",
    "data=uh.read()\n",
    "print('Retreived',len(data),'characters')\n",
    "tree=ET.fromstring(data)\n",
    "\n",
    "counts=tree.findall('.//count')\n",
    "nums=[]\n",
    "for result in counts:\n",
    "    num=int(result.text)\n",
    "    print(result.text)\n",
    "    nums.append(num)\n",
    "print('count',len(nums))\n",
    "print('Sum',sum(nums))"
   ]
  },
  {
   "cell_type": "code",
   "execution_count": null,
   "id": "0478fc11",
   "metadata": {},
   "outputs": [],
   "source": []
  }
 ],
 "metadata": {
  "kernelspec": {
   "display_name": "Python 3",
   "language": "python",
   "name": "python3"
  },
  "language_info": {
   "codemirror_mode": {
    "name": "ipython",
    "version": 3
   },
   "file_extension": ".py",
   "mimetype": "text/x-python",
   "name": "python",
   "nbconvert_exporter": "python",
   "pygments_lexer": "ipython3",
   "version": "3.13.5"
  }
 },
 "nbformat": 4,
 "nbformat_minor": 5
}
