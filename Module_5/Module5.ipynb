{
 "cells": [
  {
   "cell_type": "markdown",
   "id": "cf8e34ff",
   "metadata": {},
   "source": [
    "# Web services and XML"
   ]
  },
  {
   "cell_type": "markdown",
   "id": "3a0b551f",
   "metadata": {},
   "source": [
    "## Data on the Web"
   ]
  },
  {
   "cell_type": "markdown",
   "id": "acfafae2",
   "metadata": {},
   "source": [
    "We needed  to come up with an agreed way to represent data going between applications and across networks  \n",
    "there are 2 commonly used formats : XML and JSON"
   ]
  },
  {
   "cell_type": "markdown",
   "id": "56ba8011",
   "metadata": {},
   "source": [
    "## eXtensible Markup Language (XML)"
   ]
  },
  {
   "cell_type": "markdown",
   "id": "dd1cf1b1",
   "metadata": {},
   "source": [
    "XML (eXtensible Markup Language) is a way to store and share data using tags. It looks like HTML, but it is used to describe data, not to show web pages.  \n",
    "\n",
    "primary purpose is to help information systems **share structured data**  "
   ]
  },
  {
   "cell_type": "markdown",
   "id": "6252bab1",
   "metadata": {},
   "source": [
    "**tags** indicate the beggining and ending of elements  \n",
    "**Attributes** : Keyword/value pairs on the opening tag of XML  \n",
    "**Serialize/deserialize** : convert data in one program into a common format that can be stored or transmitted between systems"
   ]
  },
  {
   "cell_type": "markdown",
   "id": "24560f98",
   "metadata": {},
   "source": [
    "```xml\n",
    "<a>\n",
    "  <b w=\"5\">X</b>\n",
    "  <c>\n",
    "    <d>Y</d>\n",
    "    <e>Z</e>\n",
    "  </c>\n",
    "</a>\n",
    "```\n"
   ]
  },
  {
   "cell_type": "markdown",
   "id": "368dd9b3",
   "metadata": {},
   "source": [
    "\n",
    "- `<a>`, `<b>`, `<c>`, `<d>`, and `<e>` are **elements** (like boxes or tags).\n",
    "- `w=\"5\"` is an **attribute** of the `<b>` tag.\n",
    "- `X`, `Y`, and `Z` are the **text** inside the elements (called **text nodes**).\n",
    "- The structure is like a **tree**:\n",
    "  - `a` is the top (root) element.\n",
    "  - `a` has two children: `b` and `c`.\n",
    "  - `b` has text `X` and an attribute `w=\"5\"`.\n",
    "  - `c` has two children: `d` and `e`, which contain `Y` and `Z`."
   ]
  },
  {
   "cell_type": "markdown",
   "id": "a9c45a32",
   "metadata": {},
   "source": [
    "## XML schema"
   ]
  },
  {
   "cell_type": "markdown",
   "id": "03e0eeb1",
   "metadata": {},
   "source": [
    "it's the description of the legal format of an XML document  \n",
    "Expressed in terms of constraints on the structure and content of documents  \n",
    "#### Many XML schema languages\n",
    "- Document Type Definition (DTD)  \n",
    "- Standard Generalized Markup language (SGML)\n",
    "- XML schema from W3C (XSD)"
   ]
  },
  {
   "cell_type": "markdown",
   "id": "9d3b7079",
   "metadata": {},
   "source": [
    "## Parsing XML"
   ]
  },
  {
   "cell_type": "markdown",
   "id": "e4a31ebe",
   "metadata": {},
   "source": [
    "Parsing an XML is that we pass a string object (the XML code) and return an object (a tree),so later we can work on that tree to extract data.  "
   ]
  },
  {
   "cell_type": "markdown",
   "id": "8b953c94",
   "metadata": {},
   "source": []
  }
 ],
 "metadata": {
  "kernelspec": {
   "display_name": "Python 3",
   "language": "python",
   "name": "python3"
  },
  "language_info": {
   "codemirror_mode": {
    "name": "ipython",
    "version": 3
   },
   "file_extension": ".py",
   "mimetype": "text/x-python",
   "name": "python",
   "nbconvert_exporter": "python",
   "pygments_lexer": "ipython3",
   "version": "3.13.5"
  }
 },
 "nbformat": 4,
 "nbformat_minor": 5
}
